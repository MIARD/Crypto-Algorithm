{
  "nbformat": 4,
  "nbformat_minor": 0,
  "metadata": {
    "colab": {
      "name": "Genetic_Algorithm_Skeleton_Code_Student.ipynb",
      "provenance": [],
      "collapsed_sections": [],
      "include_colab_link": true
    },
    "kernelspec": {
      "name": "python3",
      "display_name": "Python 3"
    }
  },
  "cells": [
    {
      "cell_type": "markdown",
      "metadata": {
        "id": "view-in-github",
        "colab_type": "text"
      },
      "source": [
        "<a href=\"https://colab.research.google.com/github/MIARD/Crypto-Algorithm/blob/main/Genetic_Algorithm_Skeleton_Code_Student.ipynb\" target=\"_parent\"><img src=\"https://colab.research.google.com/assets/colab-badge.svg\" alt=\"Open In Colab\"/></a>"
      ]
    },
    {
      "cell_type": "markdown",
      "metadata": {
        "id": "LjGNAQH1OA3l"
      },
      "source": [
        "## CSE422 lab: Genetic Algorithm"
      ]
    },
    {
      "cell_type": "markdown",
      "metadata": {
        "id": "7W2dAmlIEMXj"
      },
      "source": [
        "#### Genetic Algorithm Pseudo code:\n",
        "\n"
      ]
    },
    {
      "cell_type": "markdown",
      "metadata": {
        "id": "gdQcmGl0_jvc"
      },
      "source": [
        "**function** GENETIC-ALGORITHM( population, FITNESS-FN) **returns** an individual \n",
        " \n",
        "> **inputs:** population- a set of individuals/chromosomes; FITNESS-FN- a function that measures the fitness of an individual\n",
        "\n",
        ">**repeat** \n",
        "new_population $\\leftarrow$ empty set \n",
        ">>**for** $i=1$ **to** size ($ population$) **do**\n",
        "$$\n",
        "\\begin{array}{l}\n",
        "x \\leftarrow \\text { RANDOM-SELECTION }(\\text { population, FITNESS-FN }) \\\\\n",
        "y \\leftarrow \\text { RANDOM-SELECTION }(\\text { population, FITNESS-FN }) \\\\\n",
        "child  \\leftarrow \\operatorname{CROSSOVER}(x, y)\n",
        "\\end{array}\n",
        "$$\n",
        ">>>**if** (some_random_number < mutation_threshold) **then** child$\\leftarrow$ MUTATE ( child ) \n",
        "\n",
        ">>>add child to new_population \n",
        "\n",
        ">>population $\\leftarrow$ new_population \n",
        "\n",
        ">**until** some individual is fit enough, or enough time has elapsed\n",
        "\n",
        ">**return** the best individual in population, according to FITNESS-FN\n",
        " \n"
      ]
    },
    {
      "cell_type": "markdown",
      "metadata": {
        "id": "nDkKH11UOHvy"
      },
      "source": [
        "### Skeleton Code:"
      ]
    },
    {
      "cell_type": "markdown",
      "metadata": {
        "id": "Z86D3OcTgZAN"
      },
      "source": [
        "### Importing libraries"
      ]
    },
    {
      "cell_type": "code",
      "metadata": {
        "id": "DVUZn7mX25Zj"
      },
      "source": [
        "import numpy as np\n",
        "import matplotlib.pyplot as plt\n",
        "%matplotlib inline"
      ],
      "execution_count": null,
      "outputs": []
    },
    {
      "cell_type": "markdown",
      "metadata": {
        "id": "FrkwKxS0gUV5"
      },
      "source": [
        "### Fitness function"
      ]
    },
    {
      "cell_type": "code",
      "metadata": {
        "id": "CGWWuBT820Uo"
      },
      "source": [
        "def fitness(population, n):\n",
        "    if np.ndim(population) == 1:\n",
        "        population = np.reshape(population,(-1,len(population)))\n",
        "    fitness_scores = np.empty(len(population))\n",
        "    max_attacking_pair = (n*(n-1))/2\n",
        "    for index, chess_board in enumerate(population):\n",
        "        occurrences = np.bincount(chess_board)\n",
        "        row_attacking_pair = sum([(occur*(occur-1))/2 for occur in occurrences])\n",
        "\n",
        "        diagonal_attacking_pair = 0\n",
        "        for col1 in range(n-1):\n",
        "            for col2 in range(col1+1, n):\n",
        "                col_diff = abs(col1 - col2)\n",
        "                row_diff = abs(chess_board[col1] - chess_board[col2])\n",
        "                if col_diff == row_diff:\n",
        "                    diagonal_attacking_pair += 1\n",
        "        fitness_scores[index] = max_attacking_pair - (row_attacking_pair + diagonal_attacking_pair)\n",
        "    return fitness_scores\n"
      ],
      "execution_count": null,
      "outputs": []
    },
    {
      "cell_type": "markdown",
      "metadata": {
        "id": "F-5xhfamezBP"
      },
      "source": [
        "### Random Selection function\n",
        "\n",
        "This built-in function might help to create the weighted random selection:\n",
        "\n",
        "`numpy.random.choice(a, size, replace, p)` \n",
        "\n",
        "`p` are the weights of the individuals- value between 0 and 1; refers to the probability of each individual being selected.\n",
        "\n",
        "`a` is the array\n",
        "\n",
        "`size` how many samples to return\n",
        "\n",
        "`replace = True`"
      ]
    },
    {
      "cell_type": "code",
      "metadata": {
        "id": "mCgercZ4_DQ8"
      },
      "source": [
        "def select(population, fit):\n",
        "    ''' take input:  population and fit\n",
        "      fit contains fitness values of each of the individuals \n",
        "      in the population  \n",
        "      \n",
        "      return:  one individual randomly giving\n",
        "      more weight to ones which have high fitness score'''\n",
        "    a = list(range(len(fit)))\n",
        "    size = 1\n",
        "    p = fit/sum(fit)\n",
        "    selected_index = np.random.choice(a, size, True, p)\n",
        "    return population[selected_index]\n",
        "# population = np.random.randint(0, 8, (10, 8))\n",
        "# population = np.array([[1,3,6,3,7,4,4,1],[2,1,6,4,1,3,0,0],[1,3,3,0,4,0,1,3],[2,1,4,3,2,1,0,2]])\n",
        "# select(population, np.array([24,23,21,11]))"
      ],
      "execution_count": null,
      "outputs": []
    },
    {
      "cell_type": "markdown",
      "metadata": {
        "id": "ysZu4DVmgshV"
      },
      "source": [
        "### Crossover function\n",
        "\n",
        "\n",
        "**function** CROSSOVER $(x, y)$ **returns** an individual \n",
        "\n",
        ">**inputs**: $x, y$  which are the parent individuals\n",
        "\n",
        ">$n \\leftarrow \\mathrm{LENGTH}(x) ; c \\leftarrow$ random number from 1 to $n$ \n",
        "\n",
        ">**return** APPEND(SUBSTRING $(x, 1, c),$ SUBSTRING $(y, c+1, n))$"
      ]
    },
    {
      "cell_type": "code",
      "metadata": {
        "id": "ZtmoFQ9ugwN_"
      },
      "source": [
        "def crossover(x, y):\n",
        "    '''take input: 2 parents - x, y. \n",
        "     Generate a random crossover point. \n",
        "     Append first half of x with second \n",
        "     half of y to create the child\n",
        "     \n",
        "     returns: a child chromosome'''\n",
        "    crossover_point = np.random.randint(len(x))\n",
        "    return np.append(x[0:crossover_point], y[crossover_point:])"
      ],
      "execution_count": null,
      "outputs": []
    },
    {
      "cell_type": "markdown",
      "metadata": {
        "id": "RJJuuGbyxzho"
      },
      "source": [
        "###Mutation function"
      ]
    },
    {
      "cell_type": "code",
      "metadata": {
        "id": "zRIG9DXmxzFw"
      },
      "source": [
        "def mutate(child):\n",
        "    '''take input: a child\n",
        "     mutates a random \n",
        "     gene into another random gene\n",
        "     \n",
        "     returns: mutated child'''\n",
        "    child[np.random.randint(len(child))] = np.random.randint(len(child))\n",
        "    return child"
      ],
      "execution_count": null,
      "outputs": []
    },
    {
      "cell_type": "markdown",
      "metadata": {
        "id": "yOPop-7n5WYL"
      },
      "source": [
        "### Genetic Algorithm Function"
      ]
    },
    {
      "cell_type": "code",
      "metadata": {
        "id": "uw2sfb9nW_yo"
      },
      "source": [
        "def GA(population, n, mutation_threshold = 0.3):\n",
        "    max_generation = 100000\n",
        "    current_generation = 1\n",
        "    goal_fitness = (n*(n-1))/2\n",
        "    print(\"Goal fitness for current population: \", goal_fitness)\n",
        "    print(\"Problem dimension: {0} x {0}\".format(n))\n",
        "    print(\"Population size: \", len(population))\n",
        "    print(\"Max generation: \", max_generation)\n",
        "    print(\"running....\")\n",
        "    while current_generation <= max_generation:\n",
        "        new_population = []\n",
        "        fitness_values = fitness(population, n)\n",
        "        for i in range(len(population)):\n",
        "            x,y =  [select(population, fitness_values), select(population, fitness_values)]\n",
        "            child = crossover(x, y)\n",
        "            if np.random.rand() < mutation_threshold:\n",
        "                child = mutate(child)\n",
        "            if fitness(child, n) == goal_fitness:\n",
        "                print(\"\\n....done\")\n",
        "                print(f\"\\nResult: {child} found in {current_generation} generation.\")\n",
        "                return child\n",
        "            new_population.append(child)\n",
        "        population = np.array(new_population)\n",
        "        current_generation += 1\n",
        "    print(f\"\\nNo solution found in {max_generation} generation. Try again!\")\n"
      ],
      "execution_count": null,
      "outputs": []
    },
    {
      "cell_type": "markdown",
      "metadata": {
        "id": "cHKgDnDKb8mh"
      },
      "source": [
        "Running the Genetic Algorithm function"
      ]
    },
    {
      "cell_type": "code",
      "metadata": {
        "id": "01Pz8Q_Jb7qE",
        "colab": {
          "base_uri": "https://localhost:8080/"
        },
        "outputId": "b685acf3-d3be-4fb6-c2c8-b7fa05d399b9"
      },
      "source": [
        "if __name__ == '__main__':\n",
        "    '''for 8 queen problem, n = 8'''\n",
        "    n = 8\n",
        "\n",
        "    '''start_population denotes how many individuals/chromosomes are there\n",
        "    in the initial population n = 8'''\n",
        "    start_population = 10 \n",
        "\n",
        "    '''if you want you can set mutation_threshold to a higher value,\n",
        "    to increase the chances of mutation'''\n",
        "    mutation_threshold = 0.5\n",
        "\n",
        "    '''creating the population with random integers between 0 to 7 inclusive\n",
        "    for n = 8 queen problem'''\n",
        "    population = np.random.randint(0, n, (start_population, n))\n",
        "\n",
        "    '''calling the GA function'''\n",
        "    generation_values = GA(population, n, mutation_threshold)"
      ],
      "execution_count": null,
      "outputs": [
        {
          "output_type": "stream",
          "text": [
            "Goal fitness for current population:  28.0\n",
            "Problem dimension: 8 x 8\n",
            "Population size:  10\n",
            "Max generation:  100000\n",
            "running....\n",
            "\n",
            "....done\n",
            "\n",
            "Result: [2 0 6 4 7 1 3 5] found in 1369 generation.\n"
          ],
          "name": "stdout"
        }
      ]
    },
    {
      "cell_type": "markdown",
      "metadata": {
        "id": "CBqrwcr5dYu-"
      },
      "source": [
        "# New section"
      ]
    },
    {
      "cell_type": "code",
      "metadata": {
        "id": "2fO3OrAlHyUc"
      },
      "source": [
        "generation_values = np.array(generation_values)\n"
      ],
      "execution_count": null,
      "outputs": []
    },
    {
      "cell_type": "markdown",
      "metadata": {
        "id": "787tqxgmhLTf"
      },
      "source": [
        ""
      ]
    }
  ]
}